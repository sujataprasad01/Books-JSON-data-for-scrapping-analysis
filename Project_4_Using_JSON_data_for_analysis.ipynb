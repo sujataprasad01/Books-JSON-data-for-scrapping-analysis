{
  "nbformat": 4,
  "nbformat_minor": 0,
  "metadata": {
    "colab": {
      "provenance": [],
      "authorship_tag": "ABX9TyM1MKEv6TXF2ZVvLyikikgY",
      "include_colab_link": true
    },
    "kernelspec": {
      "name": "python3",
      "display_name": "Python 3"
    },
    "language_info": {
      "name": "python"
    }
  },
  "cells": [
    {
      "cell_type": "markdown",
      "metadata": {
        "id": "view-in-github",
        "colab_type": "text"
      },
      "source": [
        "<a href=\"https://colab.research.google.com/github/sujataprasad01/Books-JSON-data-for-scrapping-analysis/blob/main/Project_4_Using_JSON_data_for_analysis.ipynb\" target=\"_parent\"><img src=\"https://colab.research.google.com/assets/colab-badge.svg\" alt=\"Open In Colab\"/></a>"
      ]
    },
    {
      "cell_type": "code",
      "execution_count": 1,
      "metadata": {
        "id": "0Qxcv2xJA5Wr"
      },
      "outputs": [],
      "source": [
        "#numpy\n",
        "import numpy as np\n",
        "#pandas\n",
        "import pandas as pd\n",
        "#matplotlib\n",
        "import matplotlib.pyplot as plt\n",
        "#seaborn\n",
        "import seaborn as sns\n",
        "#BeautifulSoup(scrapping)(Gathering of data)\n",
        "from bs4 import BeautifulSoup\n",
        "# request\n",
        "import requests\n",
        "#data cleaning RegEx\n",
        "import re\n",
        "import sqlite3\n",
        "import seaborn as sns"
      ]
    },
    {
      "cell_type": "markdown",
      "source": [
        "# Steps\n",
        "1. Converting the JSON data into a DataFrame\n",
        "2. Explore the data\n",
        "3. Clean & Manipulate the Data\n",
        "4. Analysis of Data\n",
        "5. Conclusion"
      ],
      "metadata": {
        "id": "F8l0-MVfHOAX"
      }
    },
    {
      "cell_type": "markdown",
      "source": [
        "# 1.Converting the JSON data into a DataFrame"
      ],
      "metadata": {
        "id": "p55ZV-d3HgR3"
      }
    },
    {
      "cell_type": "code",
      "source": [
        "df2=pd.read_json(\"https://raw.githubusercontent.com/ozlerhakan/mongodb-json-files/master/datasets/grades.json\", lines=True)"
      ],
      "metadata": {
        "id": "g1d105zcH2jj"
      },
      "execution_count": null,
      "outputs": []
    },
    {
      "cell_type": "code",
      "source": [
        "df=pd.read_json('https://raw.githubusercontent.com/ozlerhakan/mongodb-json-files/master/datasets/books.json', lines=True)"
      ],
      "metadata": {
        "id": "CC7Lf02aG7Qg"
      },
      "execution_count": null,
      "outputs": []
    },
    {
      "cell_type": "code",
      "source": [
        "df"
      ],
      "metadata": {
        "id": "guGNbK0DG7TO"
      },
      "execution_count": null,
      "outputs": []
    },
    {
      "cell_type": "code",
      "source": [],
      "metadata": {
        "id": "sUnqGy1hG7YQ"
      },
      "execution_count": null,
      "outputs": []
    },
    {
      "cell_type": "code",
      "source": [],
      "metadata": {
        "id": "tDUtc-wqG7ay"
      },
      "execution_count": null,
      "outputs": []
    },
    {
      "cell_type": "code",
      "source": [],
      "metadata": {
        "id": "h-qROqlOG7df"
      },
      "execution_count": null,
      "outputs": []
    },
    {
      "cell_type": "code",
      "source": [],
      "metadata": {
        "id": "eGuJvjHXG7ff"
      },
      "execution_count": null,
      "outputs": []
    },
    {
      "cell_type": "code",
      "source": [],
      "metadata": {
        "id": "h7bpxRxKG7iA"
      },
      "execution_count": null,
      "outputs": []
    }
  ]
}